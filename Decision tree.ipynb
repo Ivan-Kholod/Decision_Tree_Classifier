{
  "cells": [
    {
      "cell_type": "markdown",
      "metadata": {
        "id": "Ul3NxHEPAcRG"
      },
      "source": [
        "CONTEXT:\n",
        "\n",
        "DeltaSquare is an NGO that works with the Government on matters of social policy to bring about a change in the lives of underprivileged sections of society. The NGO is working on improving the policies with respect to the income of the needful people so that workers can be paid according to the work and also introduce some programs to enhance the skills of the work which will eventually help in the overall development of the nation. The NGO has received the dataset by the government and needs to be analyzed thoroughly. You as a data scientist at DeltaSquare are tasked with solving this problem and sharing a proposal with the government."
      ]
    },
    {
      "cell_type": "markdown",
      "metadata": {
        "id": "7UJgbR1nAi9I"
      },
      "source": [
        "OBJECTIVE:\n",
        "\n",
        "-Understand the different factors that influence the income of an individual.\n",
        "\n",
        "-To build a prediction model that can help the government formulate policies for the right pockets of the society."
      ]
    },
    {
      "cell_type": "markdown",
      "metadata": {
        "id": "faU_FZtiAtCD"
      },
      "source": [
        "DATA DICTIONARY:\n",
        "\n",
        "\n",
        "    age: continuous - age of a Person\n",
        "    workclass: Where does a person works - categorical -Private, Self-emp-not-inc, Self-emp-inc, Federal-gov, Local-gov, State-gov, Without-pay, Never-worked.\n",
        "    fnlwgt: continuous - Weight assigned by Current Population Survey (CPS) - People with similar demographic characteristics should have similar weights since it is a feature aimed to allocate similar weights to people with similar demographic characteristics.\n",
        "    education: Degree the person has - Bachelors, Some-college, 11th, HS-grad, Prof-school, Assoc-acdm, Assoc-voc, 9th, 7th-8th, 12th, Masters, 1st-4th, 10th, Doctorate, 5th-6th, Preschool.\n",
        "    education-num: no. of years a person studied - continuous.\n",
        "    marital-status: Married-civ-spouse, Divorced, Never-married, Separated, Widowed, Married-spouse-absent, Married-AF-spouse.\n",
        "    occupation: Tech-support, Craft-repair, Other-service, Sales, Exec-managerial, Prof-specialty, Handlers-cleaners, Machine-op-inspct, Adm-clerical, Farming-fishing, Transport-moving, Priv-house-serv, Protective-serv, Armed-Forces.\n",
        "    relationship : Relationship of the person with the dependent member. Wife, Own-child, Husband, Not-in-family, Other-relative, Unmarried.\n",
        "    race: White, Asian-Pac-Islander, Amer-Indian-Eskimo, Other, Black.\n",
        "    sex: Female, Male.\n",
        "    capital-gain: Investment gain of the person other than salary - continuous\n",
        "    capital-loss: Loss from investments - continuous\n",
        "    hours-per-week: No. of hours a person works - continuous.\n",
        "    native-country: United-States, Cambodia, England, Puerto-Rico, Canada, Germany, Outlying-US(Guam-USVI-etc), India, Japan, Greece, South, China, Cuba, Iran, Honduras, Philippines, Italy, Poland, Jamaica, Vietnam, Mexico, Portugal, Ireland, France, Dominican-Republic, Laos, Ecuador, Taiwan, Haiti, Columbia, Hungary, Guatemala, Nicaragua, Scotland, Thailand, Yugoslavia, El-Salvador, Trinidad&Tobago, Peru, Hong, Holand-Netherlands.\n",
        "    salary: >50K, <=50K (dependent variable, the salary is in Dollars per year)\n",
        "  "
      ]
    },
    {
      "cell_type": "code",
      "execution_count": 50,
      "metadata": {
        "colab": {
          "base_uri": "https://localhost:8080/"
        },
        "id": "TwljiltuAyaR",
        "outputId": "3b357249-9f10-4292-e944-94704afe35d0"
      },
      "outputs": [
        {
          "output_type": "stream",
          "name": "stdout",
          "text": [
            "****************************************************************************************************\n"
          ]
        }
      ],
      "source": [
        "print(\"*\"*100)"
      ]
    },
    {
      "cell_type": "code",
      "execution_count": 51,
      "metadata": {
        "id": "NzUhagowA-BL"
      },
      "outputs": [],
      "source": [
        "#Importing relevant libraries.\n",
        "\n",
        "#Dataframe and numeric operations.\n",
        "import numpy as np\n",
        "import pandas as pd\n",
        "\n",
        "#Visualiation.\n",
        "import matplotlib.pyplot as plt\n",
        "import seaborn as sns\n",
        "\n",
        "#Decision tree.\n",
        "from sklearn import tree\n",
        "from sklearn.tree import DecisionTreeClassifier #Easier access.\n",
        "\n",
        "#Model tuning and optimization.\n",
        "from sklearn.model_selection import train_test_split, RandomizedSearchCV\n",
        "\n",
        "#Model scoring.\n",
        "from sklearn.metrics import recall_score, precision_score, f1_score\n",
        "from sklearn.metrics import confusion_matrix\n",
        "\n",
        "#Warnings.\n",
        "import warnings\n",
        "warnings.filterwarnings(\"ignore\")\n",
        "\n",
        "#Constant Variables.\n",
        "r_state = 1\n",
        "\n",
        "#Pipeline creation.\n",
        "from sklearn.preprocessing import FunctionTransformer, StandardScaler\n",
        "from sklearn.compose import ColumnTransformer\n",
        "from sklearn.pipeline import Pipeline\n",
        "\n",
        "#Model exporting/importing.\n",
        "import pickle"
      ]
    },
    {
      "cell_type": "code",
      "execution_count": 52,
      "metadata": {
        "colab": {
          "base_uri": "https://localhost:8080/"
        },
        "id": "yMqVvEm9Gxed",
        "outputId": "697f2e90-01c0-40b6-b0d1-62118092548d"
      },
      "outputs": [
        {
          "output_type": "stream",
          "name": "stdout",
          "text": [
            "****************************************************************************************************\n"
          ]
        }
      ],
      "source": [
        "print(\"*\"*100)"
      ]
    },
    {
      "cell_type": "code",
      "execution_count": 53,
      "metadata": {
        "colab": {
          "base_uri": "https://localhost:8080/"
        },
        "id": "H8fhzI_RGzUU",
        "outputId": "62da2003-0733-4fa9-b251-cb8d193d1d64"
      },
      "outputs": [
        {
          "output_type": "stream",
          "name": "stdout",
          "text": [
            "Drive already mounted at /content/drive; to attempt to forcibly remount, call drive.mount(\"/content/drive\", force_remount=True).\n"
          ]
        }
      ],
      "source": [
        "#Connecting to google colab.\n",
        "from google.colab import drive\n",
        "drive.mount(\"/content/drive\")"
      ]
    },
    {
      "cell_type": "code",
      "execution_count": 54,
      "metadata": {
        "id": "2LzNuo8PG4Er"
      },
      "outputs": [],
      "source": [
        "#Loading data and creating a backup copy of the original dataframe as a reference point.\n",
        "df_original = pd.read_csv(\"/content/drive/MyDrive/Datasets/who_data.csv\")\n",
        "df = df_original.copy()"
      ]
    },
    {
      "cell_type": "code",
      "execution_count": 55,
      "metadata": {
        "colab": {
          "base_uri": "https://localhost:8080/"
        },
        "id": "mMnWWFqGHRv0",
        "outputId": "1150cc18-8747-416a-8dca-5ebd0e68eb42"
      },
      "outputs": [
        {
          "output_type": "stream",
          "name": "stdout",
          "text": [
            "****************************************************************************************************\n"
          ]
        }
      ],
      "source": [
        "print(\"*\"*100)"
      ]
    },
    {
      "cell_type": "markdown",
      "metadata": {
        "id": "XtPm6bMrRSiA"
      },
      "source": [
        "EXTENSIVE ANALYSIS WILL NOT BE DONE AS THIS IS THE SAME DATA-SET THAT WAS USING THE THE LOGISTIC REGRESSION DEMONSTRATION. SEE THAT PROJECT TO VIEW IN-DEPTH DATA ANALYSIS AND PREPROCESSING."
      ]
    },
    {
      "cell_type": "code",
      "execution_count": 56,
      "metadata": {
        "colab": {
          "base_uri": "https://localhost:8080/"
        },
        "id": "KMGZDkzKMRGr",
        "outputId": "b4a99c87-318c-4217-83fc-015d793bb71e"
      },
      "outputs": [
        {
          "output_type": "execute_result",
          "data": {
            "text/plain": [
              "age                        int64\n",
              "workclass                 object\n",
              "fnlwgt                     int64\n",
              "education                 object\n",
              "education_no_of_years      int64\n",
              "marital_status            object\n",
              "occupation                object\n",
              "relationship              object\n",
              "race                      object\n",
              "sex                       object\n",
              "capital_gain               int64\n",
              "capital_loss               int64\n",
              "working_hours_per_week     int64\n",
              "native_country            object\n",
              "salary                    object\n",
              "dtype: object"
            ]
          },
          "metadata": {},
          "execution_count": 56
        }
      ],
      "source": [
        "df.dtypes"
      ]
    },
    {
      "cell_type": "code",
      "execution_count": 57,
      "metadata": {
        "id": "7XhtKg_ZM2Th"
      },
      "outputs": [],
      "source": [
        "#Switching object dtypes to categorical.\n",
        "#Separating variables into numeric and categorical.\n",
        "num_cols = df.select_dtypes(include='number').columns\n",
        "cat_cols = df.select_dtypes(include='object').columns\n",
        "\n",
        "df[cat_cols] = df[cat_cols].astype('category')"
      ]
    },
    {
      "cell_type": "code",
      "execution_count": 58,
      "metadata": {
        "colab": {
          "base_uri": "https://localhost:8080/"
        },
        "id": "4HptdGwYRNCd",
        "outputId": "6ace4506-777c-4139-e501-108230177a39"
      },
      "outputs": [
        {
          "output_type": "execute_result",
          "data": {
            "text/plain": [
              "workclass         category\n",
              "education         category\n",
              "marital_status    category\n",
              "occupation        category\n",
              "relationship      category\n",
              "race              category\n",
              "sex               category\n",
              "native_country    category\n",
              "salary            category\n",
              "dtype: object"
            ]
          },
          "metadata": {},
          "execution_count": 58
        }
      ],
      "source": [
        "df[cat_cols].dtypes"
      ]
    },
    {
      "cell_type": "code",
      "execution_count": 59,
      "metadata": {
        "colab": {
          "base_uri": "https://localhost:8080/"
        },
        "id": "5EdDHFpIRRWR",
        "outputId": "8179b839-91b6-4144-85f2-71bbe363a357"
      },
      "outputs": [
        {
          "output_type": "execute_result",
          "data": {
            "text/plain": [
              "24"
            ]
          },
          "metadata": {},
          "execution_count": 59
        }
      ],
      "source": [
        "#Checking for duplicated entries.\n",
        "df.duplicated().sum()"
      ]
    },
    {
      "cell_type": "code",
      "execution_count": 60,
      "metadata": {
        "colab": {
          "base_uri": "https://localhost:8080/"
        },
        "id": "QzZwBhwCRzLW",
        "outputId": "b7ebd8d4-8f2f-4a26-fc13-9726dc11a405"
      },
      "outputs": [
        {
          "output_type": "execute_result",
          "data": {
            "text/plain": [
              "0"
            ]
          },
          "metadata": {},
          "execution_count": 60
        }
      ],
      "source": [
        "#Dropping duplicated entries.\n",
        "df = df.drop_duplicates()\n",
        "df.duplicated().sum()"
      ]
    },
    {
      "cell_type": "code",
      "execution_count": 61,
      "metadata": {
        "colab": {
          "base_uri": "https://localhost:8080/"
        },
        "id": "NcemEdNyR9ln",
        "outputId": "0d6279dd-df3e-4b0e-c0fc-6ca01215358f"
      },
      "outputs": [
        {
          "output_type": "execute_result",
          "data": {
            "text/plain": [
              "age                       0\n",
              "workclass                 0\n",
              "fnlwgt                    0\n",
              "education                 0\n",
              "education_no_of_years     0\n",
              "marital_status            0\n",
              "occupation                0\n",
              "relationship              0\n",
              "race                      0\n",
              "sex                       0\n",
              "capital_gain              0\n",
              "capital_loss              0\n",
              "working_hours_per_week    0\n",
              "native_country            0\n",
              "salary                    0\n",
              "dtype: int64"
            ]
          },
          "metadata": {},
          "execution_count": 61
        }
      ],
      "source": [
        "#Checking for missing values.\n",
        "df.isna().sum()"
      ]
    },
    {
      "cell_type": "markdown",
      "metadata": {
        "id": "4O1PE0n_SCJP"
      },
      "source": [
        "There are no missing values and and anyways missing values would not be a problem for decison trees as they can handle missing data. Missing value detection in this case would be for EDA."
      ]
    },
    {
      "cell_type": "code",
      "execution_count": 62,
      "metadata": {
        "id": "8WjqdpKKSH3E"
      },
      "outputs": [],
      "source": [
        "def fix_questionMRK(df):\n",
        "  '''\n",
        "  Replaces questions marks with UNKNOWN.\n",
        "  Strips the data of white spaces.\n",
        "  '''\n",
        "\n",
        "  #Strip data entries of white spaces.\n",
        "  df = df.applymap(lambda x: x.strip() if isinstance(x,str) else x)\n",
        "\n",
        "  #Replace \" ?\" with \"Unknown\"\n",
        "  df = df.replace(\"?\", \"Unknown\")\n",
        "\n",
        "  return df"
      ]
    },
    {
      "cell_type": "code",
      "execution_count": 63,
      "metadata": {
        "id": "5BOkmfr_0U6A"
      },
      "outputs": [],
      "source": [
        "df = fix_questionMRK(df)"
      ]
    },
    {
      "cell_type": "code",
      "execution_count": 64,
      "metadata": {
        "id": "1TDKec_gV1PF"
      },
      "outputs": [],
      "source": [
        "def fix_country(df):\n",
        "  'Groups the native_countries into continents'\n",
        "\n",
        "  #Continent lists.\n",
        "  north_america = [\n",
        "    \"Canada\",\n",
        "    \"Cuba\",\n",
        "    \"Dominican-Republic\",\n",
        "    \"El-Salvador\",\n",
        "    \"Guatemala\",\n",
        "    \"Haiti\",\n",
        "    \"Honduras\",\n",
        "    \"Jamaica\",\n",
        "    \"Mexico\",\n",
        "    \"Nicaragua\",\n",
        "    \"Outlying-US(Guam-USVI-etc)\",\n",
        "    \"Puerto-Rico\",\n",
        "    \"Trinadad&Tobago\",\n",
        "    \"United-States\"]\n",
        "  asia = [\n",
        "    \"Cambodia\",\n",
        "    \"China\",\n",
        "    \"Hong\",\n",
        "    \"India\",\n",
        "    \"Iran\",\n",
        "    \"Japan\",\n",
        "    \"Laos\",\n",
        "    \"Philippines\",\n",
        "    \"Taiwan\",\n",
        "    \"Thailand\",\n",
        "    \"Vietnam\"]\n",
        "  south_america = [\"Columbia\", \"Ecuador\", \"Peru\"]\n",
        "  europe = [\n",
        "    \"England\",\n",
        "    \"France\",\n",
        "    \"Germany\",\n",
        "    \"Greece\",\n",
        "    \"Holand-Netherlands\",\n",
        "    \"Hungary\",\n",
        "    \"Ireland\",\n",
        "    \"Italy\",\n",
        "    \"Poland\",\n",
        "    \"Portugal\",\n",
        "    \"Scotland\",\n",
        "    \"Yugoslavia\"]\n",
        "  other = [\"South\", \"Unknown\", \"?\"]\n",
        "\n",
        "  #Ensuring both comparisons are the same lower case.\n",
        "  #Ensures 'apples to apples' comparison.\n",
        "  north_america = [c.lower() for c in north_america]\n",
        "  asia = [c.lower() for c in asia]\n",
        "  south_america = [c.lower() for c in south_america]\n",
        "  europe = [c.lower() for c in europe]\n",
        "  other = [c.lower() for c in other]\n",
        "\n",
        "  def region_combiner(country):\n",
        "    'Replaces country name with region name'\n",
        "    country = country.lower()\n",
        "\n",
        "    if country in north_america:\n",
        "      return \"North America\"\n",
        "    elif country in asia:\n",
        "      return \"Asia\"\n",
        "    elif country in south_america:\n",
        "      return \"South America\"\n",
        "    elif country in europe:\n",
        "      return \"Europe\"\n",
        "    elif country in other:\n",
        "      return \"Other\"\n",
        "    else:\n",
        "      return country\n",
        "\n",
        "  #Apply region combiner.\n",
        "  df[\"native_country\"] = df[\"native_country\"].apply(region_combiner)\n",
        "\n",
        "  return df"
      ]
    },
    {
      "cell_type": "code",
      "execution_count": 65,
      "metadata": {
        "id": "0DvQlR4t0Yez"
      },
      "outputs": [],
      "source": [
        "df = fix_country(df)"
      ]
    },
    {
      "cell_type": "code",
      "execution_count": 66,
      "metadata": {
        "id": "GQEtpPqmYGyy"
      },
      "outputs": [],
      "source": [
        "#A lot of people would love this function to work in ther daily lives lol.\n",
        "\n",
        "def fix_marriage(marriage):\n",
        "  '''\n",
        "  Compresses the categories into:\n",
        "  Married, Not Married, Never Married\n",
        "  '''\n",
        "\n",
        "  #Lists\n",
        "  married = [\"Married-civ-spouse\", \"Married-AF-spouse\"]\n",
        "  not_married = [\"Divorced\", \"Separated\", \"Widowed\", \"Married-spouse-absent\"]\n",
        "  #never_married is already a category and will be left unchanged.\n",
        "\n",
        "  #Lowercasing\n",
        "  married = [s.lower() for s in married]\n",
        "  not_married = [s.lower() for s in not_married]\n",
        "\n",
        "  #Defining change function.\n",
        "  def combine_marital(status):\n",
        "    '''\n",
        "    Combines marital status into one of two categories.\n",
        "    '''\n",
        "\n",
        "    status = status.lower()\n",
        "\n",
        "    if status in married:\n",
        "      return \"Married\"\n",
        "    elif status in not_married:\n",
        "      return \"Not Married\"\n",
        "    else:\n",
        "      return status\n",
        "\n",
        "  #Applying change function.\n",
        "  df['marital_status'] = df['marital_status'].apply(combine_marital)\n",
        "\n",
        "  return df"
      ]
    },
    {
      "cell_type": "code",
      "execution_count": 67,
      "metadata": {
        "id": "46iJv0gn0aRG"
      },
      "outputs": [],
      "source": [
        "df = fix_marriage(df)"
      ]
    },
    {
      "cell_type": "code",
      "execution_count": 68,
      "metadata": {
        "id": "O-W7HI4f1OZw"
      },
      "outputs": [],
      "source": [
        "def fix_drop(df):\n",
        "  '''\n",
        "  Removed unnecesary columns\n",
        "  '''\n",
        "\n",
        "  df = df.drop([\"capital_gain\",\"capital_loss\"], axis=1)\n",
        "\n",
        "  return df"
      ]
    },
    {
      "cell_type": "code",
      "execution_count": 69,
      "metadata": {
        "id": "gUuc6r0u1fXC"
      },
      "outputs": [],
      "source": [
        "df = fix_drop(df)"
      ]
    },
    {
      "cell_type": "code",
      "execution_count": 70,
      "metadata": {
        "id": "05nXjok31mbj"
      },
      "outputs": [],
      "source": [
        "#Scaling numeric variables.\n",
        "num_cols = df.select_dtypes(include='number').columns #New updated list.\n",
        "scaler = StandardScaler()\n",
        "df[num_cols] = scaler.fit_transform(df[num_cols])"
      ]
    },
    {
      "cell_type": "code",
      "execution_count": 71,
      "metadata": {
        "id": "6GumCFUBp4na"
      },
      "outputs": [],
      "source": [
        "def encode_target(df):\n",
        "  '''Encodes the target variable into 0 and 1.'''\n",
        "\n",
        "  df[\"salary\"] = df[\"salary\"].replace({\"<=50K\":0, \">50K\":1})\n",
        "  return df"
      ]
    },
    {
      "cell_type": "code",
      "execution_count": 72,
      "metadata": {
        "id": "ez0i9Q1jyVcr"
      },
      "outputs": [],
      "source": [
        "df = encode_target(df)"
      ]
    },
    {
      "cell_type": "code",
      "execution_count": 73,
      "metadata": {
        "id": "pd6XEfvbzcyL"
      },
      "outputs": [],
      "source": [
        "x = df.drop('salary', axis=1)\n",
        "y = df['salary']"
      ]
    },
    {
      "cell_type": "code",
      "execution_count": 74,
      "metadata": {
        "colab": {
          "base_uri": "https://localhost:8080/"
        },
        "id": "eXIWsBH4ziAA",
        "outputId": "375cad78-ecea-41dd-d6cd-59708311f48a"
      },
      "outputs": [
        {
          "output_type": "execute_result",
          "data": {
            "text/plain": [
              "(32537, 57)"
            ]
          },
          "metadata": {},
          "execution_count": 74
        }
      ],
      "source": [
        "x = pd.get_dummies(x, drop_first=True)\n",
        "x.shape"
      ]
    },
    {
      "cell_type": "code",
      "execution_count": 88,
      "metadata": {
        "id": "M_ktzvM44z8T"
      },
      "outputs": [],
      "source": [
        "x_train, x_test, y_train, y_test = train_test_split(x,y,test_size=0.2,random_state=r_state)"
      ]
    },
    {
      "cell_type": "code",
      "execution_count": 76,
      "metadata": {
        "colab": {
          "base_uri": "https://localhost:8080/"
        },
        "id": "MtgmKYeYcRIf",
        "outputId": "4e273083-5a13-4a6d-cf34-036ab93459ac"
      },
      "outputs": [
        {
          "output_type": "stream",
          "name": "stdout",
          "text": [
            "****************************************************************************************************\n"
          ]
        }
      ],
      "source": [
        "print(\"*\"*100)"
      ]
    },
    {
      "cell_type": "markdown",
      "metadata": {
        "id": "oyOCqCQjdTKH"
      },
      "source": [
        "EDA ANALYSIS WOULD GO HERE BUT AS EXPLAINED EARLIER THIS IS THE SAME DATASET AS WAS USED FOR LOGISTIC REGRESSION SO IT WILL BE SKIPPED."
      ]
    },
    {
      "cell_type": "code",
      "execution_count": 77,
      "metadata": {
        "colab": {
          "base_uri": "https://localhost:8080/"
        },
        "id": "Vy2KIYgqcbOK",
        "outputId": "65331481-821e-4b71-e376-7d7f6f17a50c"
      },
      "outputs": [
        {
          "output_type": "stream",
          "name": "stdout",
          "text": [
            "****************************************************************************************************\n"
          ]
        }
      ],
      "source": [
        "print(\"*\"*100)"
      ]
    },
    {
      "cell_type": "markdown",
      "metadata": {
        "id": "B1CgtpxG4DiC"
      },
      "source": [
        "MODEL BUILDING"
      ]
    },
    {
      "cell_type": "markdown",
      "metadata": {
        "id": "uga2VeDO4oHk"
      },
      "source": [
        "To start, let's make a function that will score the model and show the results.\n",
        "\n",
        "As was stated in the logistic regression project, f1 is the metric to beat here.\n",
        "\n",
        "Both the 0 and 1 class are equaly important as the projects want to learn about and predict both classes with equal importance"
      ]
    },
    {
      "cell_type": "code",
      "execution_count": 78,
      "metadata": {
        "id": "pMYCJfEd4tBB"
      },
      "outputs": [],
      "source": [
        "def score_model(model, x_train, x_test, y_trian, y_test):\n",
        "  '''\n",
        "  Return the train and test f1 scores as well as the respective confusion matrices.\n",
        "  '''\n",
        "\n",
        "  train_pred = model.predict(x_train)\n",
        "  test_pred = model.predict(x_test)\n",
        "\n",
        "  #F1 scores.\n",
        "  train_f1 = f1_score(y_train, train_pred)\n",
        "  test_f1 = f1_score(y_test, test_pred)\n",
        "\n",
        "  #Confusion matrices.\n",
        "  cm_train = confusion_matrix(y_train, train_pred)\n",
        "  cm_test = confusion_matrix(y_test, test_pred)\n",
        "\n",
        "  #Display.\n",
        "  print(f\"Train f1 score: {train_f1}\")\n",
        "  sns.heatmap(cm_train, annot=True, fmt=\"g\", cmap=\"coolwarm\")\n",
        "  plt.title(\"Train Confusion Matrix\")\n",
        "  plt.xlabel(\"Predicted\")\n",
        "  plt.ylabel(\"Actual\")\n",
        "  plt.show()\n",
        "\n",
        "  print()\n",
        "\n",
        "  print(f\"Test f1 score: {test_f1}\")\n",
        "  sns.heatmap(cm_test, annot=True, fmt=\"g\", cmap=\"coolwarm\")\n",
        "  plt.title(\"Test Confusion Matrix\")\n",
        "  plt.xlabel(\"Predicted\")\n",
        "  plt.ylabel(\"Actual\")\n",
        "  plt.show()"
      ]
    },
    {
      "cell_type": "code",
      "execution_count": null,
      "metadata": {
        "colab": {
          "base_uri": "https://localhost:8080/",
          "height": 75
        },
        "id": "XtpwU_Ba6PKg",
        "outputId": "2fff0bc3-73e1-4397-8074-b68efb8326a5"
      },
      "outputs": [
        {
          "data": {
            "text/html": [
              "<style>#sk-container-id-1 {color: black;background-color: white;}#sk-container-id-1 pre{padding: 0;}#sk-container-id-1 div.sk-toggleable {background-color: white;}#sk-container-id-1 label.sk-toggleable__label {cursor: pointer;display: block;width: 100%;margin-bottom: 0;padding: 0.3em;box-sizing: border-box;text-align: center;}#sk-container-id-1 label.sk-toggleable__label-arrow:before {content: \"▸\";float: left;margin-right: 0.25em;color: #696969;}#sk-container-id-1 label.sk-toggleable__label-arrow:hover:before {color: black;}#sk-container-id-1 div.sk-estimator:hover label.sk-toggleable__label-arrow:before {color: black;}#sk-container-id-1 div.sk-toggleable__content {max-height: 0;max-width: 0;overflow: hidden;text-align: left;background-color: #f0f8ff;}#sk-container-id-1 div.sk-toggleable__content pre {margin: 0.2em;color: black;border-radius: 0.25em;background-color: #f0f8ff;}#sk-container-id-1 input.sk-toggleable__control:checked~div.sk-toggleable__content {max-height: 200px;max-width: 100%;overflow: auto;}#sk-container-id-1 input.sk-toggleable__control:checked~label.sk-toggleable__label-arrow:before {content: \"▾\";}#sk-container-id-1 div.sk-estimator input.sk-toggleable__control:checked~label.sk-toggleable__label {background-color: #d4ebff;}#sk-container-id-1 div.sk-label input.sk-toggleable__control:checked~label.sk-toggleable__label {background-color: #d4ebff;}#sk-container-id-1 input.sk-hidden--visually {border: 0;clip: rect(1px 1px 1px 1px);clip: rect(1px, 1px, 1px, 1px);height: 1px;margin: -1px;overflow: hidden;padding: 0;position: absolute;width: 1px;}#sk-container-id-1 div.sk-estimator {font-family: monospace;background-color: #f0f8ff;border: 1px dotted black;border-radius: 0.25em;box-sizing: border-box;margin-bottom: 0.5em;}#sk-container-id-1 div.sk-estimator:hover {background-color: #d4ebff;}#sk-container-id-1 div.sk-parallel-item::after {content: \"\";width: 100%;border-bottom: 1px solid gray;flex-grow: 1;}#sk-container-id-1 div.sk-label:hover label.sk-toggleable__label {background-color: #d4ebff;}#sk-container-id-1 div.sk-serial::before {content: \"\";position: absolute;border-left: 1px solid gray;box-sizing: border-box;top: 0;bottom: 0;left: 50%;z-index: 0;}#sk-container-id-1 div.sk-serial {display: flex;flex-direction: column;align-items: center;background-color: white;padding-right: 0.2em;padding-left: 0.2em;position: relative;}#sk-container-id-1 div.sk-item {position: relative;z-index: 1;}#sk-container-id-1 div.sk-parallel {display: flex;align-items: stretch;justify-content: center;background-color: white;position: relative;}#sk-container-id-1 div.sk-item::before, #sk-container-id-1 div.sk-parallel-item::before {content: \"\";position: absolute;border-left: 1px solid gray;box-sizing: border-box;top: 0;bottom: 0;left: 50%;z-index: -1;}#sk-container-id-1 div.sk-parallel-item {display: flex;flex-direction: column;z-index: 1;position: relative;background-color: white;}#sk-container-id-1 div.sk-parallel-item:first-child::after {align-self: flex-end;width: 50%;}#sk-container-id-1 div.sk-parallel-item:last-child::after {align-self: flex-start;width: 50%;}#sk-container-id-1 div.sk-parallel-item:only-child::after {width: 0;}#sk-container-id-1 div.sk-dashed-wrapped {border: 1px dashed gray;margin: 0 0.4em 0.5em 0.4em;box-sizing: border-box;padding-bottom: 0.4em;background-color: white;}#sk-container-id-1 div.sk-label label {font-family: monospace;font-weight: bold;display: inline-block;line-height: 1.2em;}#sk-container-id-1 div.sk-label-container {text-align: center;}#sk-container-id-1 div.sk-container {/* jupyter's `normalize.less` sets `[hidden] { display: none; }` but bootstrap.min.css set `[hidden] { display: none !important; }` so we also need the `!important` here to be able to override the default hidden behavior on the sphinx rendered scikit-learn.org. See: https://github.com/scikit-learn/scikit-learn/issues/21755 */display: inline-block !important;position: relative;}#sk-container-id-1 div.sk-text-repr-fallback {display: none;}</style><div id=\"sk-container-id-1\" class=\"sk-top-container\"><div class=\"sk-text-repr-fallback\"><pre>DecisionTreeClassifier(class_weight={0: 0.25, 1: 0.75}, random_state=1)</pre><b>In a Jupyter environment, please rerun this cell to show the HTML representation or trust the notebook. <br />On GitHub, the HTML representation is unable to render, please try loading this page with nbviewer.org.</b></div><div class=\"sk-container\" hidden><div class=\"sk-item\"><div class=\"sk-estimator sk-toggleable\"><input class=\"sk-toggleable__control sk-hidden--visually\" id=\"sk-estimator-id-1\" type=\"checkbox\" checked><label for=\"sk-estimator-id-1\" class=\"sk-toggleable__label sk-toggleable__label-arrow\">DecisionTreeClassifier</label><div class=\"sk-toggleable__content\"><pre>DecisionTreeClassifier(class_weight={0: 0.25, 1: 0.75}, random_state=1)</pre></div></div></div></div></div>"
            ],
            "text/plain": [
              "DecisionTreeClassifier(class_weight={0: 0.25, 1: 0.75}, random_state=1)"
            ]
          },
          "execution_count": 29,
          "metadata": {},
          "output_type": "execute_result"
        }
      ],
      "source": [
        "#Let's train our vanila model to get a starting point.\n",
        "#Class weights will be placed to offset imbalance in dataset.\n",
        "tree_initial = DecisionTreeClassifier(random_state=r_state, class_weight={0:0.25, 1:0.75})\n",
        "tree_initial.fit(x_train, y_train)"
      ]
    },
    {
      "cell_type": "code",
      "execution_count": null,
      "metadata": {
        "colab": {
          "base_uri": "https://localhost:8080/",
          "height": 981
        },
        "id": "9aqvOMEm9VOH",
        "outputId": "01ede54e-918d-47f6-c350-8f7e9d1dd1f3"
      },
      "outputs": [
        {
          "name": "stdout",
          "output_type": "stream",
          "text": [
            "Train f1 score: 0.9999212040028367\n"
          ]
        },
        {
          "data": {
            "image/png": "[encoded data removed]",
            "text/plain": [
              "<Figure size 640x480 with 2 Axes>"
            ]
          },
          "metadata": {},
          "output_type": "display_data"
        },
        {
          "name": "stdout",
          "output_type": "stream",
          "text": [
            "\n",
            "Test f1 score: 0.5411157691067398\n"
          ]
        },
        {
          "data": {
            "image/png": "[encoded data removed]",
            "text/plain": [
              "<Figure size 640x480 with 2 Axes>"
            ]
          },
          "metadata": {},
          "output_type": "display_data"
        }
      ],
      "source": [
        "score_model(tree_initial, x_train, x_test, y_train, y_test)"
      ]
    },
    {
      "cell_type": "code",
      "execution_count": null,
      "metadata": {
        "colab": {
          "base_uri": "https://localhost:8080/"
        },
        "id": "BlIWXBz3C28G",
        "outputId": "06e721e0-cc21-49f6-9d43-f997c7ddccc3"
      },
      "outputs": [
        {
          "name": "stdout",
          "output_type": "stream",
          "text": [
            "Fitting 5 folds for each of 500 candidates, totalling 2500 fits\n",
            "The best parameters are: {'splitter': 'best', 'min_samples_leaf': 1, 'min_impurity_decrease': 0.001, 'max_depth': 9, 'criterion': 'gini', 'class_weight': {0: 0.25, 1: 0.75}, 'ccp_alpha': 0}\n"
          ]
        }
      ],
      "source": [
        "#Now let's try tuning the model using randomized search CV.\n",
        "\n",
        "tree_tuned = DecisionTreeClassifier(random_state=r_state)\n",
        "\n",
        "param_grid = {'criterion': ['gini','entropy'],\n",
        "              'splitter': ['best','random'],\n",
        "              'max_depth': np.arange(1,16),\n",
        "              'class_weight': [{0:0.25, 1:0.75}, 'balanced'],\n",
        "              'min_impurity_decrease': [0.0001, 0.001, 0.01],\n",
        "              'ccp_alpha': [0,0.5,1],\n",
        "              'min_samples_leaf':[1,2,3,4,5]}\n",
        "\n",
        "r_search = RandomizedSearchCV(estimator = tree_tuned, param_distributions=param_grid,\n",
        "                              n_iter = 500, scoring='f1', n_jobs=-1, cv=5, verbose=1,\n",
        "                              random_state=r_state)\n",
        "\n",
        "r_search.fit(x_train, y_train)\n",
        "\n",
        "tree_tuned = r_search.best_estimator_\n",
        "\n",
        "print(f\"The best parameters are: {r_search.best_params_}\")"
      ]
    },
    {
      "cell_type": "code",
      "execution_count": 103,
      "metadata": {
        "colab": {
          "base_uri": "https://localhost:8080/",
          "height": 980
        },
        "id": "fg4-Z-DtFrXA",
        "outputId": "da28cea0-c278-4e09-a019-76be57df37bc"
      },
      "outputs": [
        {
          "output_type": "stream",
          "name": "stdout",
          "text": [
            "Train f1 score: 0.6508903744897355\n"
          ]
        },
        {
          "output_type": "display_data",
          "data": {
            "text/plain": [
              "<Figure size 640x480 with 2 Axes>"
            ],
            "image/png": "[encoded data removed]"
          },
          "metadata": {}
        },
        {
          "output_type": "stream",
          "name": "stdout",
          "text": [
            "\n",
            "Test f1 score: 0.622146673142302\n"
          ]
        },
        {
          "output_type": "display_data",
          "data": {
            "text/plain": [
              "<Figure size 640x480 with 2 Axes>"
            ],
            "image/png": "[encoded data removed]"
          },
          "metadata": {}
        }
      ],
      "source": [
        "score_model(tree_tuned, x_train, x_test, y_train, y_test)"
      ]
    },
    {
      "cell_type": "markdown",
      "metadata": {
        "id": "AOkGFVd0JUQf"
      },
      "source": [
        "Cannot get past the .65-.62 score so that will be the final for this. Next we will try post-pruning using cost complexity to improve the f1 score."
      ]
    },
    {
      "cell_type": "code",
      "execution_count": null,
      "metadata": {
        "id": "Q9pSA2RT1O6C"
      },
      "outputs": [],
      "source": [
        "#Exporting model to avoid the need to re-train.\n",
        "tuned_filename = \"Best Tuned Model\"\n",
        "with open(tuned_filename, \"wb\") as model_file:\n",
        "  pickle.dump(tree_tuned, model_file)"
      ]
    },
    {
      "cell_type": "code",
      "execution_count": null,
      "metadata": {
        "id": "wIZ8Jl3KUsGH"
      },
      "outputs": [],
      "source": [
        "#Importing the model after leaving the notebook.\n",
        "tuned_filename = \"Best Tuned Model\"\n",
        "with open(tuned_filename, \"rb\") as model_file:\n",
        "  tree_tuned = pickle.load(model_file)"
      ]
    },
    {
      "cell_type": "code",
      "execution_count": 94,
      "metadata": {
        "id": "pngejSdVKHsu"
      },
      "outputs": [],
      "source": [
        "#NOW TRYING POST-PRUNING TO IMPROVE CLASSIFIER PERFORMANCE.\n",
        "tree_pruned = DecisionTreeClassifier(class_weight={0:0.25, 1:0.75},\n",
        "                                     random_state=r_state)"
      ]
    },
    {
      "cell_type": "code",
      "execution_count": 95,
      "metadata": {
        "id": "Bl8olOyAaNhC"
      },
      "outputs": [],
      "source": [
        "#Visualizing the impurity loss graph function.\n",
        "def visualize_imp_loss(tree_model):\n",
        "  '''Visualized the impurity loss as the cost complexity parameter (ccp_alpha)\n",
        "  is increased pruning more aggresively.'''\n",
        "\n",
        "  cost_path = tree_model.cost_complexity_pruning_path(x_train, y_train)\n",
        "  ccp_alphas, impurities = cost_path.ccp_alphas, cost_path.impurities\n",
        "\n",
        "  fig, ax = plt.subplots(figsize=(10,7))\n",
        "  ax.plot(ccp_alphas[:-1], impurities[:-1], marker=\"o\", drawstyle=\"steps-post\")\n",
        "  plt.title(\"Impurities vs Cost Complexity Parameter\")\n",
        "  plt.xlabel(\"Cost Complexity Parameter\")\n",
        "  plt.ylabel(\"Impurities\")\n",
        "  plt.show()"
      ]
    },
    {
      "cell_type": "code",
      "execution_count": 96,
      "metadata": {
        "id": "VLeBH-H9cXjj"
      },
      "outputs": [],
      "source": [
        "def visualize_f1_alpha(tree_model,x_train,x_test,y_train,y_test):\n",
        "  '''visualizes the loss in recall as the cost complexity parameter\n",
        "  is increased.'''\n",
        "\n",
        "  #Alphas and impurities.\n",
        "  cost_path = tree_model.cost_complexity_pruning_path(x_train,y_train)\n",
        "  ccp_alphas, impurities = cost_path.ccp_alphas, cost_path.impurities\n",
        "\n",
        "  #Classifiers\n",
        "  clfs = []\n",
        "  for ccp_alpha in ccp_alphas:\n",
        "      clf = DecisionTreeClassifier(random_state=1, ccp_alpha=ccp_alpha)\n",
        "      clf.fit(x_train, y_train)\n",
        "      clfs.append(clf)\n",
        "\n",
        "  #Ommit the last classifier that is a fully grown tree. Extreme case.\n",
        "  clfs = clfs[:-1]\n",
        "  ccp_alphas = ccp_alphas[:-1]\n",
        "  impurities = impurities[:-1]\n",
        "\n",
        "  #train and test f1 scores.\n",
        "  f1_train_scores = []\n",
        "  for clf in clfs:\n",
        "    pred_train = clf.predict(x_train)\n",
        "    f1_train = f1_score(y_train, pred_train)\n",
        "    f1_train_scores.append(f1_train)\n",
        "\n",
        "  f1_test_scores = []\n",
        "  for clf in clfs:\n",
        "    pred_test = clf.predict(x_test)\n",
        "    f1_test = f1_score(y_test, pred_test)\n",
        "    f1_test_scores.append(f1_test)\n",
        "\n",
        "  #Plottng comparison graph.\n",
        "  fig, ax = plt.subplots(figsize=(10,7))\n",
        "  ax.plot(ccp_alphas, f1_train_scores, marker =\"o\", drawstyle = \"steps-post\", label=\"Train\")\n",
        "  ax.plot(ccp_alphas, f1_test_scores, marker=\"o\", drawstyle = \"steps-post\", label=\"Test\")\n",
        "  plt.title(\"Train and Test F1 Scores vs Cost Complexity Parameter\")\n",
        "  plt.xlabel(\"Cost Complexity Parameter\")\n",
        "  plt.ylabel(\"F1 Score\")\n",
        "  ax.legend()\n",
        "  plt.show()\n",
        "\n",
        "  #Returning the best model parameters.\n",
        "  best_model_index = np.argmax(f1_test_scores)\n",
        "  best_model = clfs[best_model_index]\n",
        "  print(best_model)"
      ]
    },
    {
      "cell_type": "code",
      "execution_count": 97,
      "metadata": {
        "colab": {
          "base_uri": "https://localhost:8080/",
          "height": 641
        },
        "id": "NM3Hiej1byxX",
        "outputId": "a527ae46-69a2-421f-acff-90a346b43118"
      },
      "outputs": [
        {
          "output_type": "display_data",
          "data": {
            "text/plain": [
              "<Figure size 1000x700 with 1 Axes>"
            ],
            "image/png": "[encoded data removed]"
          },
          "metadata": {}
        }
      ],
      "source": [
        "visualize_imp_loss(tree_pruned)"
      ]
    },
    {
      "cell_type": "markdown",
      "metadata": {
        "id": "lQVKN8537TEq"
      },
      "source": [
        "Observed a large loss in purity up to ccp_alpha of ~0.005 and then the purity levels out."
      ]
    },
    {
      "cell_type": "code",
      "execution_count": 98,
      "metadata": {
        "colab": {
          "base_uri": "https://localhost:8080/",
          "height": 659
        },
        "id": "wIrUKTf_4N1B",
        "outputId": "855641f4-ba64-41b1-e243-c53d155a7bbd"
      },
      "outputs": [
        {
          "output_type": "display_data",
          "data": {
            "text/plain": [
              "<Figure size 1000x700 with 1 Axes>"
            ],
            "image/png": "[encoded data removed]"
          },
          "metadata": {}
        },
        {
          "output_type": "stream",
          "name": "stdout",
          "text": [
            "DecisionTreeClassifier(ccp_alpha=0.00040407511679078087, random_state=1)\n"
          ]
        }
      ],
      "source": [
        "visualize_f1_alpha(tree_pruned, x_train, x_test, y_train, y_test)"
      ]
    },
    {
      "cell_type": "code",
      "source": [
        "#Testing the best tree.\n",
        "best_pruned_tree = DecisionTreeClassifier(class_weight={0:0.25, 1:0.75},\n",
        "                                          random_state=r_state,\n",
        "                                          ccp_alpha=0.00041722099414613287)\n",
        "\n",
        "best_pruned_tree.fit(x_train, y_train)\n",
        "score_model(best_pruned_tree, x_train, x_test, y_train, y_test)"
      ],
      "metadata": {
        "colab": {
          "base_uri": "https://localhost:8080/",
          "height": 980
        },
        "id": "CNEktH0LBLZj",
        "outputId": "31211f70-91e0-408e-91ef-45b9874bfd40"
      },
      "execution_count": 104,
      "outputs": [
        {
          "output_type": "stream",
          "name": "stdout",
          "text": [
            "Train f1 score: 0.6663323512818906\n"
          ]
        },
        {
          "output_type": "display_data",
          "data": {
            "text/plain": [
              "<Figure size 640x480 with 2 Axes>"
            ],
            "image/png": "[encoded data removed]"
          },
          "metadata": {}
        },
        {
          "output_type": "stream",
          "name": "stdout",
          "text": [
            "\n",
            "Test f1 score: 0.6365280289330922\n"
          ]
        },
        {
          "output_type": "display_data",
          "data": {
            "text/plain": [
              "<Figure size 640x480 with 2 Axes>"
            ],
            "image/png": "[encoded data removed]"
          },
          "metadata": {}
        }
      ]
    },
    {
      "cell_type": "markdown",
      "source": [
        "Best resul so far."
      ],
      "metadata": {
        "id": "rWmsWybwGH6U"
      }
    },
    {
      "cell_type": "code",
      "source": [
        "print(\"*\"*100)"
      ],
      "metadata": {
        "colab": {
          "base_uri": "https://localhost:8080/"
        },
        "id": "WsFRatWcHatS",
        "outputId": "86b6ee9b-438f-4d32-9fc4-4e660814af41"
      },
      "execution_count": 105,
      "outputs": [
        {
          "output_type": "stream",
          "name": "stdout",
          "text": [
            "****************************************************************************************************\n"
          ]
        }
      ]
    },
    {
      "cell_type": "markdown",
      "source": [
        "RESULTS"
      ],
      "metadata": {
        "id": "yv0jGiepHcxQ"
      }
    },
    {
      "cell_type": "code",
      "source": [
        "#Dataframe to compare classifier results.\n",
        "\n",
        "clf_data = [\n",
        "    (\"Standard Tree\", 0.9999, 0.5411),\n",
        "    (\"Tuned Tree\", 0.6509, 0.6221),\n",
        "    (\"Pruned Tree\", 0.6663, 0.6365)\n",
        "]\n",
        "\n",
        "columns = [\"Model Name\", \"Train F1 Score\", \"Test F1 Score\"]\n",
        "\n",
        "clf_df = pd.DataFrame(clf_data, columns=columns)\n",
        "\n",
        "clf_df"
      ],
      "metadata": {
        "colab": {
          "base_uri": "https://localhost:8080/",
          "height": 143
        },
        "id": "fignjijPJseW",
        "outputId": "3ba042e4-ec4c-43d8-f7a8-20f56cf04223"
      },
      "execution_count": 108,
      "outputs": [
        {
          "output_type": "execute_result",
          "data": {
            "text/plain": [
              "      Model Name  Train F1 Score  Test F1 Score\n",
              "0  Standard Tree          0.9999         0.5411\n",
              "1     Tuned Tree          0.6509         0.6221\n",
              "2    Pruned Tree          0.6663         0.6365"
            ],
            "text/html": [
              "\n",
              "  <div id=\"df-a54111a4-1b54-4a31-8d53-7dcf3c862648\" class=\"colab-df-container\">\n",
              "    <div>\n",
              "<style scoped>\n",
              "    .dataframe tbody tr th:only-of-type {\n",
              "        vertical-align: middle;\n",
              "    }\n",
              "\n",
              "    .dataframe tbody tr th {\n",
              "        vertical-align: top;\n",
              "    }\n",
              "\n",
              "    .dataframe thead th {\n",
              "        text-align: right;\n",
              "    }\n",
              "</style>\n",
              "<table border=\"1\" class=\"dataframe\">\n",
              "  <thead>\n",
              "    <tr style=\"text-align: right;\">\n",
              "      <th></th>\n",
              "      <th>Model Name</th>\n",
              "      <th>Train F1 Score</th>\n",
              "      <th>Test F1 Score</th>\n",
              "    </tr>\n",
              "  </thead>\n",
              "  <tbody>\n",
              "    <tr>\n",
              "      <th>0</th>\n",
              "      <td>Standard Tree</td>\n",
              "      <td>0.9999</td>\n",
              "      <td>0.5411</td>\n",
              "    </tr>\n",
              "    <tr>\n",
              "      <th>1</th>\n",
              "      <td>Tuned Tree</td>\n",
              "      <td>0.6509</td>\n",
              "      <td>0.6221</td>\n",
              "    </tr>\n",
              "    <tr>\n",
              "      <th>2</th>\n",
              "      <td>Pruned Tree</td>\n",
              "      <td>0.6663</td>\n",
              "      <td>0.6365</td>\n",
              "    </tr>\n",
              "  </tbody>\n",
              "</table>\n",
              "</div>\n",
              "    <div class=\"colab-df-buttons\">\n",
              "\n",
              "  <div class=\"colab-df-container\">\n",
              "    <button class=\"colab-df-convert\" onclick=\"convertToInteractive('df-a54111a4-1b54-4a31-8d53-7dcf3c862648')\"\n",
              "            title=\"Convert this dataframe to an interactive table.\"\n",
              "            style=\"display:none;\">\n",
              "\n",
              "  <svg xmlns=\"http://www.w3.org/2000/svg\" height=\"24px\" viewBox=\"0 -960 960 960\">\n",
              "    <path d=\"M120-120v-720h720v720H120Zm60-500h600v-160H180v160Zm220 220h160v-160H400v160Zm0 220h160v-160H400v160ZM180-400h160v-160H180v160Zm440 0h160v-160H620v160ZM180-180h160v-160H180v160Zm440 0h160v-160H620v160Z\"/>\n",
              "  </svg>\n",
              "    </button>\n",
              "\n",
              "  <style>\n",
              "    .colab-df-container {\n",
              "      display:flex;\n",
              "      gap: 12px;\n",
              "    }\n",
              "\n",
              "    .colab-df-convert {\n",
              "      background-color: #E8F0FE;\n",
              "      border: none;\n",
              "      border-radius: 50%;\n",
              "      cursor: pointer;\n",
              "      display: none;\n",
              "      fill: #1967D2;\n",
              "      height: 32px;\n",
              "      padding: 0 0 0 0;\n",
              "      width: 32px;\n",
              "    }\n",
              "\n",
              "    .colab-df-convert:hover {\n",
              "      background-color: #E2EBFA;\n",
              "      box-shadow: 0px 1px 2px rgba(60, 64, 67, 0.3), 0px 1px 3px 1px rgba(60, 64, 67, 0.15);\n",
              "      fill: #174EA6;\n",
              "    }\n",
              "\n",
              "    .colab-df-buttons div {\n",
              "      margin-bottom: 4px;\n",
              "    }\n",
              "\n",
              "    [theme=dark] .colab-df-convert {\n",
              "      background-color: #3B4455;\n",
              "      fill: #D2E3FC;\n",
              "    }\n",
              "\n",
              "    [theme=dark] .colab-df-convert:hover {\n",
              "      background-color: #434B5C;\n",
              "      box-shadow: 0px 1px 3px 1px rgba(0, 0, 0, 0.15);\n",
              "      filter: drop-shadow(0px 1px 2px rgba(0, 0, 0, 0.3));\n",
              "      fill: #FFFFFF;\n",
              "    }\n",
              "  </style>\n",
              "\n",
              "    <script>\n",
              "      const buttonEl =\n",
              "        document.querySelector('#df-a54111a4-1b54-4a31-8d53-7dcf3c862648 button.colab-df-convert');\n",
              "      buttonEl.style.display =\n",
              "        google.colab.kernel.accessAllowed ? 'block' : 'none';\n",
              "\n",
              "      async function convertToInteractive(key) {\n",
              "        const element = document.querySelector('#df-a54111a4-1b54-4a31-8d53-7dcf3c862648');\n",
              "        const dataTable =\n",
              "          await google.colab.kernel.invokeFunction('convertToInteractive',\n",
              "                                                    [key], {});\n",
              "        if (!dataTable) return;\n",
              "\n",
              "        const docLinkHtml = 'Like what you see? Visit the ' +\n",
              "          '<a target=\"_blank\" href=https://colab.research.google.com/notebooks/data_table.ipynb>data table notebook</a>'\n",
              "          + ' to learn more about interactive tables.';\n",
              "        element.innerHTML = '';\n",
              "        dataTable['output_type'] = 'display_data';\n",
              "        await google.colab.output.renderOutput(dataTable, element);\n",
              "        const docLink = document.createElement('div');\n",
              "        docLink.innerHTML = docLinkHtml;\n",
              "        element.appendChild(docLink);\n",
              "      }\n",
              "    </script>\n",
              "  </div>\n",
              "\n",
              "\n",
              "<div id=\"df-8fbf3d26-76a9-414a-9ab7-e2c3554206c1\">\n",
              "  <button class=\"colab-df-quickchart\" onclick=\"quickchart('df-8fbf3d26-76a9-414a-9ab7-e2c3554206c1')\"\n",
              "            title=\"Suggest charts.\"\n",
              "            style=\"display:none;\">\n",
              "\n",
              "<svg xmlns=\"http://www.w3.org/2000/svg\" height=\"24px\"viewBox=\"0 0 24 24\"\n",
              "     width=\"24px\">\n",
              "    <g>\n",
              "        <path d=\"M19 3H5c-1.1 0-2 .9-2 2v14c0 1.1.9 2 2 2h14c1.1 0 2-.9 2-2V5c0-1.1-.9-2-2-2zM9 17H7v-7h2v7zm4 0h-2V7h2v10zm4 0h-2v-4h2v4z\"/>\n",
              "    </g>\n",
              "</svg>\n",
              "  </button>\n",
              "\n",
              "<style>\n",
              "  .colab-df-quickchart {\n",
              "      --bg-color: #E8F0FE;\n",
              "      --fill-color: #1967D2;\n",
              "      --hover-bg-color: #E2EBFA;\n",
              "      --hover-fill-color: #174EA6;\n",
              "      --disabled-fill-color: #AAA;\n",
              "      --disabled-bg-color: #DDD;\n",
              "  }\n",
              "\n",
              "  [theme=dark] .colab-df-quickchart {\n",
              "      --bg-color: #3B4455;\n",
              "      --fill-color: #D2E3FC;\n",
              "      --hover-bg-color: #434B5C;\n",
              "      --hover-fill-color: #FFFFFF;\n",
              "      --disabled-bg-color: #3B4455;\n",
              "      --disabled-fill-color: #666;\n",
              "  }\n",
              "\n",
              "  .colab-df-quickchart {\n",
              "    background-color: var(--bg-color);\n",
              "    border: none;\n",
              "    border-radius: 50%;\n",
              "    cursor: pointer;\n",
              "    display: none;\n",
              "    fill: var(--fill-color);\n",
              "    height: 32px;\n",
              "    padding: 0;\n",
              "    width: 32px;\n",
              "  }\n",
              "\n",
              "  .colab-df-quickchart:hover {\n",
              "    background-color: var(--hover-bg-color);\n",
              "    box-shadow: 0 1px 2px rgba(60, 64, 67, 0.3), 0 1px 3px 1px rgba(60, 64, 67, 0.15);\n",
              "    fill: var(--button-hover-fill-color);\n",
              "  }\n",
              "\n",
              "  .colab-df-quickchart-complete:disabled,\n",
              "  .colab-df-quickchart-complete:disabled:hover {\n",
              "    background-color: var(--disabled-bg-color);\n",
              "    fill: var(--disabled-fill-color);\n",
              "    box-shadow: none;\n",
              "  }\n",
              "\n",
              "  .colab-df-spinner {\n",
              "    border: 2px solid var(--fill-color);\n",
              "    border-color: transparent;\n",
              "    border-bottom-color: var(--fill-color);\n",
              "    animation:\n",
              "      spin 1s steps(1) infinite;\n",
              "  }\n",
              "\n",
              "  @keyframes spin {\n",
              "    0% {\n",
              "      border-color: transparent;\n",
              "      border-bottom-color: var(--fill-color);\n",
              "      border-left-color: var(--fill-color);\n",
              "    }\n",
              "    20% {\n",
              "      border-color: transparent;\n",
              "      border-left-color: var(--fill-color);\n",
              "      border-top-color: var(--fill-color);\n",
              "    }\n",
              "    30% {\n",
              "      border-color: transparent;\n",
              "      border-left-color: var(--fill-color);\n",
              "      border-top-color: var(--fill-color);\n",
              "      border-right-color: var(--fill-color);\n",
              "    }\n",
              "    40% {\n",
              "      border-color: transparent;\n",
              "      border-right-color: var(--fill-color);\n",
              "      border-top-color: var(--fill-color);\n",
              "    }\n",
              "    60% {\n",
              "      border-color: transparent;\n",
              "      border-right-color: var(--fill-color);\n",
              "    }\n",
              "    80% {\n",
              "      border-color: transparent;\n",
              "      border-right-color: var(--fill-color);\n",
              "      border-bottom-color: var(--fill-color);\n",
              "    }\n",
              "    90% {\n",
              "      border-color: transparent;\n",
              "      border-bottom-color: var(--fill-color);\n",
              "    }\n",
              "  }\n",
              "</style>\n",
              "\n",
              "  <script>\n",
              "    async function quickchart(key) {\n",
              "      const quickchartButtonEl =\n",
              "        document.querySelector('#' + key + ' button');\n",
              "      quickchartButtonEl.disabled = true;  // To prevent multiple clicks.\n",
              "      quickchartButtonEl.classList.add('colab-df-spinner');\n",
              "      try {\n",
              "        const charts = await google.colab.kernel.invokeFunction(\n",
              "            'suggestCharts', [key], {});\n",
              "      } catch (error) {\n",
              "        console.error('Error during call to suggestCharts:', error);\n",
              "      }\n",
              "      quickchartButtonEl.classList.remove('colab-df-spinner');\n",
              "      quickchartButtonEl.classList.add('colab-df-quickchart-complete');\n",
              "    }\n",
              "    (() => {\n",
              "      let quickchartButtonEl =\n",
              "        document.querySelector('#df-8fbf3d26-76a9-414a-9ab7-e2c3554206c1 button');\n",
              "      quickchartButtonEl.style.display =\n",
              "        google.colab.kernel.accessAllowed ? 'block' : 'none';\n",
              "    })();\n",
              "  </script>\n",
              "</div>\n",
              "    </div>\n",
              "  </div>\n"
            ]
          },
          "metadata": {},
          "execution_count": 108
        }
      ]
    },
    {
      "cell_type": "markdown",
      "source": [
        "The final result doesn't have a high enough score to put into production for most cases. I would look into preprocessing data differently (oversampling/undersampling, combining categorical classes more aggressively). Additionaly, there is more tuning that can be done with both pre-tuning and post-pruning."
      ],
      "metadata": {
        "id": "OOeYCrmDI_4X"
      }
    }
  ],
  "metadata": {
    "colab": {
      "provenance": []
    },
    "kernelspec": {
      "display_name": "Python 3",
      "name": "python3"
    },
    "language_info": {
      "name": "python"
    }
  },
  "nbformat": 4,
  "nbformat_minor": 0
}